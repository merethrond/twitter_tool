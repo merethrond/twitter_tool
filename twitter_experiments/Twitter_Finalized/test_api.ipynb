{
 "cells": [
  {
   "cell_type": "code",
   "execution_count": 1,
   "metadata": {},
   "outputs": [],
   "source": [
    "from api_action_lib import *"
   ]
  },
  {
   "cell_type": "code",
   "execution_count": 2,
   "metadata": {},
   "outputs": [
    {
     "data": {
      "text/html": [
       "<div>\n",
       "<style scoped>\n",
       "    .dataframe tbody tr th:only-of-type {\n",
       "        vertical-align: middle;\n",
       "    }\n",
       "\n",
       "    .dataframe tbody tr th {\n",
       "        vertical-align: top;\n",
       "    }\n",
       "\n",
       "    .dataframe thead th {\n",
       "        text-align: right;\n",
       "    }\n",
       "</style>\n",
       "<table border=\"1\" class=\"dataframe\">\n",
       "  <thead>\n",
       "    <tr style=\"text-align: right;\">\n",
       "      <th></th>\n",
       "      <th>username</th>\n",
       "      <th>consumer_key</th>\n",
       "      <th>consumer_secret</th>\n",
       "      <th>access_token</th>\n",
       "      <th>access_token_secret</th>\n",
       "    </tr>\n",
       "  </thead>\n",
       "  <tbody>\n",
       "    <tr>\n",
       "      <th>0</th>\n",
       "      <td>youthfoundationss@gmail.com</td>\n",
       "      <td>QHTXB3kkrRqlj15XgKeJx8um0</td>\n",
       "      <td>1OGIwvVD64fUwGZiohveq9dgtUPCHksaiHbQbyPTkmUkI1...</td>\n",
       "      <td>1016922003842822144-9Rzuw4WYeQ8ycOyISeJVP0TcK0...</td>\n",
       "      <td>Pu4YydhVHLoyrcVGMf0XRrMVFpzqMG4OBY1qASHNA9e6a</td>\n",
       "    </tr>\n",
       "    <tr>\n",
       "      <th>1</th>\n",
       "      <td>8860222944</td>\n",
       "      <td>rlx80LI67zqCKkyJFJVbtysAy</td>\n",
       "      <td>5KKai7yRcp6FhAJwRre1gXQvbg1qENACM33tpH5XnbPe6P...</td>\n",
       "      <td>1016920535026946048-xHcDXPAKzbADR9FLhzCCfvLMZV...</td>\n",
       "      <td>YTMJdzQSyjTMXSiYY45lyjbsV1FSPd3Al5bLdSevggnGB</td>\n",
       "    </tr>\n",
       "    <tr>\n",
       "      <th>2</th>\n",
       "      <td>akanksha009verma@gmail.com</td>\n",
       "      <td>lmh0q3y2Z0pKyfPkHMgU7fNoz</td>\n",
       "      <td>ggN11xgnRWzjZk0VEKjFae3hU10gZ0zgWn4hOtYSDcRO8U...</td>\n",
       "      <td>1016616407184781313-HmDaq6C4Kd2BnbRUpRPrIQFxpG...</td>\n",
       "      <td>d1bvMWuJXF16TivfmXCzsb5thqMIw8zADjHIyZxvnGfy2</td>\n",
       "    </tr>\n",
       "    <tr>\n",
       "      <th>3</th>\n",
       "      <td>8743051683</td>\n",
       "      <td>PIfMz9AWXCxi2SjYXG8QjDt8f</td>\n",
       "      <td>2OzuMZTTmg5ooo57MUPZ3EC7QdUJlvcHy7oW7db1qp3lps...</td>\n",
       "      <td>1016924505447411712-0QBK7Mm0y0nRD7NYjVzj4w6PR7...</td>\n",
       "      <td>rwuNijScindKVhJwAz3o82GZnBorxnF7srMHsNlMS1aUM</td>\n",
       "    </tr>\n",
       "    <tr>\n",
       "      <th>4</th>\n",
       "      <td>divyabhatnagar.aap@gmail.com</td>\n",
       "      <td>tCJTsF5FTT7DIAAxya9IcoUhh</td>\n",
       "      <td>C9FCXuZpHhnpDkgs0ePWfuEgtpeO2H4uvjfsVCpW0ohSDF...</td>\n",
       "      <td>988820552860094464-a7pH1popvnKXt3NXST1iA0B3eV5...</td>\n",
       "      <td>2Wg6JdMDRjPqbnk6a5BGafLox7S42Lh2n9Sp6nE8WjWke</td>\n",
       "    </tr>\n",
       "    <tr>\n",
       "      <th>5</th>\n",
       "      <td>mariamkhan.aap@gmail.com</td>\n",
       "      <td>0rHpdeZqNl3VbfrAr1FiolJjY</td>\n",
       "      <td>mP58alLRoROP9djd9doJkP1wtq3TKfVMMqAMuti94fqt0y...</td>\n",
       "      <td>988823325513142272-vOpYzdd5pkNvbn9hENcsJYivUUn...</td>\n",
       "      <td>ikT06BQB557rLSXMUvHjnEMMALQYXhGhQkHkytLaRK6UI</td>\n",
       "    </tr>\n",
       "    <tr>\n",
       "      <th>6</th>\n",
       "      <td>abhaymahajanrr@gmail.com</td>\n",
       "      <td>FeCqnR78G9OGDw6b3MV3mswLI</td>\n",
       "      <td>O8I0cYDBlH20jNVNn9WraSb8MCF904FnpdBaLKRkCsQECb...</td>\n",
       "      <td>966891154829598722-YtpcPx4wKS19bdyxJk08zX6XpoH...</td>\n",
       "      <td>7hzxC7hXF5ADkp6dbqbrQiVAx5IbtltM5RAjbfB1eSVO3</td>\n",
       "    </tr>\n",
       "    <tr>\n",
       "      <th>7</th>\n",
       "      <td>bansalimishrarr@gmail.com</td>\n",
       "      <td>k198DpJoL6eeYveWubgKTOdvz</td>\n",
       "      <td>f7oEJ0Z5yOVZGkaScgb8RC0KWyGRSQ2qMcyh27VR6ukwzz...</td>\n",
       "      <td>966893822239162368-3IV4fq2iGcU4doQPHFtXFODZLuY...</td>\n",
       "      <td>5GNo4p5jltB7hP5oFl65LogiObV2yUYJsVv9RQfZshG1R</td>\n",
       "    </tr>\n",
       "    <tr>\n",
       "      <th>8</th>\n",
       "      <td>@Ind_againstRape</td>\n",
       "      <td>HzmvLZBp6LwziStnaj3iUYfX0</td>\n",
       "      <td>hstZHdHk9pmkbbFbfxpp6EWsjQRjq0s1uQHHG4yg6hv4zT...</td>\n",
       "      <td>962015830090362880-Df1cVarOE6NZhHIpghzG6ysWrsI...</td>\n",
       "      <td>4vH1BfrzxUKzNMvdQycEbR4jmPDHr9GG9xlmVR60ESwEO</td>\n",
       "    </tr>\n",
       "    <tr>\n",
       "      <th>9</th>\n",
       "      <td>@CharuSharmaAAP</td>\n",
       "      <td>1lzFcq8Yh47qnT7lkOmW9tEy7</td>\n",
       "      <td>6tVqz8Slvd71pq5oXhHUumxkwFe2YujIyyLytQUYQtl6bm...</td>\n",
       "      <td>988818434216480769-haJFYzKatHGKp9AGsG8PfUnWLHC...</td>\n",
       "      <td>3yxq7BQcTxYyJvRH4tuYpDpAH5pnxJXnC1epSk2twDQFW</td>\n",
       "    </tr>\n",
       "    <tr>\n",
       "      <th>10</th>\n",
       "      <td>@PrinceMishraAAP</td>\n",
       "      <td>3EtQ8GZstsRWujDscH62sM6HV</td>\n",
       "      <td>Rq6dGDj534X6Q67bjXWoqgJO7PyxqGZlFgKlMfZF7GH1Mb...</td>\n",
       "      <td>1016927439744745473-P7glSr6eEdi7nrd4pOLg9T6brS...</td>\n",
       "      <td>t1NyOkYPlfkrS5t2kePRvCLpg3qBBWdr3BjMDiYnGVfzx</td>\n",
       "    </tr>\n",
       "  </tbody>\n",
       "</table>\n",
       "</div>"
      ],
      "text/plain": [
       "                        username               consumer_key  \\\n",
       "0    youthfoundationss@gmail.com  QHTXB3kkrRqlj15XgKeJx8um0   \n",
       "1                     8860222944  rlx80LI67zqCKkyJFJVbtysAy   \n",
       "2     akanksha009verma@gmail.com  lmh0q3y2Z0pKyfPkHMgU7fNoz   \n",
       "3                     8743051683  PIfMz9AWXCxi2SjYXG8QjDt8f   \n",
       "4   divyabhatnagar.aap@gmail.com  tCJTsF5FTT7DIAAxya9IcoUhh   \n",
       "5       mariamkhan.aap@gmail.com  0rHpdeZqNl3VbfrAr1FiolJjY   \n",
       "6       abhaymahajanrr@gmail.com  FeCqnR78G9OGDw6b3MV3mswLI   \n",
       "7      bansalimishrarr@gmail.com  k198DpJoL6eeYveWubgKTOdvz   \n",
       "8               @Ind_againstRape  HzmvLZBp6LwziStnaj3iUYfX0   \n",
       "9                @CharuSharmaAAP  1lzFcq8Yh47qnT7lkOmW9tEy7   \n",
       "10              @PrinceMishraAAP  3EtQ8GZstsRWujDscH62sM6HV   \n",
       "\n",
       "                                      consumer_secret  \\\n",
       "0   1OGIwvVD64fUwGZiohveq9dgtUPCHksaiHbQbyPTkmUkI1...   \n",
       "1   5KKai7yRcp6FhAJwRre1gXQvbg1qENACM33tpH5XnbPe6P...   \n",
       "2   ggN11xgnRWzjZk0VEKjFae3hU10gZ0zgWn4hOtYSDcRO8U...   \n",
       "3   2OzuMZTTmg5ooo57MUPZ3EC7QdUJlvcHy7oW7db1qp3lps...   \n",
       "4   C9FCXuZpHhnpDkgs0ePWfuEgtpeO2H4uvjfsVCpW0ohSDF...   \n",
       "5   mP58alLRoROP9djd9doJkP1wtq3TKfVMMqAMuti94fqt0y...   \n",
       "6   O8I0cYDBlH20jNVNn9WraSb8MCF904FnpdBaLKRkCsQECb...   \n",
       "7   f7oEJ0Z5yOVZGkaScgb8RC0KWyGRSQ2qMcyh27VR6ukwzz...   \n",
       "8   hstZHdHk9pmkbbFbfxpp6EWsjQRjq0s1uQHHG4yg6hv4zT...   \n",
       "9   6tVqz8Slvd71pq5oXhHUumxkwFe2YujIyyLytQUYQtl6bm...   \n",
       "10  Rq6dGDj534X6Q67bjXWoqgJO7PyxqGZlFgKlMfZF7GH1Mb...   \n",
       "\n",
       "                                         access_token  \\\n",
       "0   1016922003842822144-9Rzuw4WYeQ8ycOyISeJVP0TcK0...   \n",
       "1   1016920535026946048-xHcDXPAKzbADR9FLhzCCfvLMZV...   \n",
       "2   1016616407184781313-HmDaq6C4Kd2BnbRUpRPrIQFxpG...   \n",
       "3   1016924505447411712-0QBK7Mm0y0nRD7NYjVzj4w6PR7...   \n",
       "4   988820552860094464-a7pH1popvnKXt3NXST1iA0B3eV5...   \n",
       "5   988823325513142272-vOpYzdd5pkNvbn9hENcsJYivUUn...   \n",
       "6   966891154829598722-YtpcPx4wKS19bdyxJk08zX6XpoH...   \n",
       "7   966893822239162368-3IV4fq2iGcU4doQPHFtXFODZLuY...   \n",
       "8   962015830090362880-Df1cVarOE6NZhHIpghzG6ysWrsI...   \n",
       "9   988818434216480769-haJFYzKatHGKp9AGsG8PfUnWLHC...   \n",
       "10  1016927439744745473-P7glSr6eEdi7nrd4pOLg9T6brS...   \n",
       "\n",
       "                              access_token_secret  \n",
       "0   Pu4YydhVHLoyrcVGMf0XRrMVFpzqMG4OBY1qASHNA9e6a  \n",
       "1   YTMJdzQSyjTMXSiYY45lyjbsV1FSPd3Al5bLdSevggnGB  \n",
       "2   d1bvMWuJXF16TivfmXCzsb5thqMIw8zADjHIyZxvnGfy2  \n",
       "3   rwuNijScindKVhJwAz3o82GZnBorxnF7srMHsNlMS1aUM  \n",
       "4   2Wg6JdMDRjPqbnk6a5BGafLox7S42Lh2n9Sp6nE8WjWke  \n",
       "5   ikT06BQB557rLSXMUvHjnEMMALQYXhGhQkHkytLaRK6UI  \n",
       "6   7hzxC7hXF5ADkp6dbqbrQiVAx5IbtltM5RAjbfB1eSVO3  \n",
       "7   5GNo4p5jltB7hP5oFl65LogiObV2yUYJsVv9RQfZshG1R  \n",
       "8   4vH1BfrzxUKzNMvdQycEbR4jmPDHr9GG9xlmVR60ESwEO  \n",
       "9   3yxq7BQcTxYyJvRH4tuYpDpAH5pnxJXnC1epSk2twDQFW  \n",
       "10  t1NyOkYPlfkrS5t2kePRvCLpg3qBBWdr3BjMDiYnGVfzx  "
      ]
     },
     "execution_count": 2,
     "metadata": {},
     "output_type": "execute_result"
    }
   ],
   "source": [
    "user_keys_dataframe"
   ]
  },
  {
   "cell_type": "code",
   "execution_count": 3,
   "metadata": {},
   "outputs": [
    {
     "data": {
      "text/plain": [
       "{'youthfoundationss@gmail.com': <tweepy.api.API at 0x10a1f6b70>,\n",
       " '8860222944': <tweepy.api.API at 0x10a1f6710>,\n",
       " 'akanksha009verma@gmail.com': <tweepy.api.API at 0x10a1f6dd8>,\n",
       " '8743051683': <tweepy.api.API at 0x10a278320>,\n",
       " 'divyabhatnagar.aap@gmail.com': <tweepy.api.API at 0x10a278710>,\n",
       " 'mariamkhan.aap@gmail.com': <tweepy.api.API at 0x10a278b00>,\n",
       " 'abhaymahajanrr@gmail.com': <tweepy.api.API at 0x10a278ef0>,\n",
       " 'bansalimishrarr@gmail.com': <tweepy.api.API at 0x10a27f320>,\n",
       " '@Ind_againstRape': <tweepy.api.API at 0x10a27f710>,\n",
       " '@CharuSharmaAAP': <tweepy.api.API at 0x10a27fb00>,\n",
       " '@PrinceMishraAAP': <tweepy.api.API at 0x10a27fef0>}"
      ]
     },
     "execution_count": 3,
     "metadata": {},
     "output_type": "execute_result"
    }
   ],
   "source": [
    "api_dict"
   ]
  },
  {
   "cell_type": "code",
   "execution_count": 7,
   "metadata": {},
   "outputs": [],
   "source": [
    "def usertimeline_test(screen_id):\n",
    "    for current_username in api_dict.keys():\n",
    "        for tweet in api_dict[current_username].user_timeline(screen_id):\n",
    "            print(tweet.text)"
   ]
  },
  {
   "cell_type": "code",
   "execution_count": 8,
   "metadata": {},
   "outputs": [
    {
     "name": "stdout",
     "output_type": "stream",
     "text": [
      "RT @VedantaBoston: Make the heart like an ocean, go beyond all the trifles of the world, be mad with joy even at evil. See the world... htt…\n",
      "RT @ChrisEvans: In other non-depressing news, my dog is still a pure, brand new soul, enjoying nonverbal bonds of love + acceptance w prett…\n",
      "@UdacityINDIA thank you\n",
      "@UdacityINDIA Should it not be Rupees instead of Dollars here? https://t.co/jG1B6QSs5M\n",
      "RT @TheGodLight: It all begins and ends in your mind. What you give power to has power over you.\n",
      "RT @TaylorPearsonMe: Growth Without Goals https://t.co/vMEuunA4bz\n",
      "RT @PureNietzsche: Today as always, men fall into two groups: slaves and free men.\n",
      "Listening to our Authentic Voice is the only choice we have to make, in order to transition to our better version.\n",
      "\n",
      "https://t.co/aaxtoi4QcX\n",
      "RT @TaylorPearsonMe: On Finding Your Purpose: An Extraordinary Letter by Hunter S. Thompson https://t.co/AbAmGKbdla h/t @kamalravikant\n",
      "Be fearless, keep struggling. There is no progress without struggle. https://t.co/dJrIjkY1xu\n",
      "RT @JimCarrey: Good news. ;^D https://t.co/PFNznuQduG\n",
      "RT @JimCarrey: Wealth and fame come from asserting your individuality. Peace comes from knowing there is no such thing. http://t.co/ULzxzHW…\n",
      "RT @JimCarrey: All that you see and all that you don't see, is you. Feel that and be free. There are no two things. :^] http://t.co/36CjRFG…\n",
      "RT @JimCarrey: God fell asleep and dreamed He was mankind. When he wakes up, He'll chuckle and say,\"Wow... that seemed so real!\" ;^] http:/…\n",
      "“What is it I want? Do I want this fleeting life of transient pleasures, or do I want the eternal bliss of everlasting life?”\n",
      "RT @iamkidpresident: It's confusing to be a person sometimes. Keep going. https://t.co/iM2Xk2R30i\n",
      "Guidelines to lead a blissful life. Godspeed. https://t.co/zkoDOixja9\n",
      "RT @JimCarrey: This is who I really am and that's my body in the middle. ;^) http://t.co/35qO6b1fWD\n",
      "RT @LovLikeJesus: I may not be where I need to be but I thank God I am not where I used to be!\n",
      "RT @Women_Sports: Be decisive. A wrong decision is generally less disastrous than indecision. - Bernhard Langer\n"
     ]
    }
   ],
   "source": [
    "usertimeline_test('you_are_that')"
   ]
  },
  {
   "cell_type": "code",
   "execution_count": 4,
   "metadata": {},
   "outputs": [
    {
     "name": "stdout",
     "output_type": "stream",
     "text": [
      "youthfoundationss@gmail.com\n"
     ]
    },
    {
     "ename": "TweepError",
     "evalue": "Twitter error response: status code = 403",
     "output_type": "error",
     "traceback": [
      "\u001b[0;31m---------------------------------------------------------------------------\u001b[0m",
      "\u001b[0;31mTweepError\u001b[0m                                Traceback (most recent call last)",
      "\u001b[0;32m<ipython-input-4-3110279fb342>\u001b[0m in \u001b[0;36m<module>\u001b[0;34m()\u001b[0m\n\u001b[0;32m----> 1\u001b[0;31m \u001b[0mretweet_top_status\u001b[0m\u001b[0;34m(\u001b[0m\u001b[0mapi_dict\u001b[0m\u001b[0;34m,\u001b[0m \u001b[0;34m'TheDaiIyPuppy'\u001b[0m\u001b[0;34m,\u001b[0m \u001b[0;36m2\u001b[0m\u001b[0;34m,\u001b[0m \u001b[0;36m2\u001b[0m\u001b[0;34m)\u001b[0m\u001b[0;34m\u001b[0m\u001b[0m\n\u001b[0m",
      "\u001b[0;32m~/Desktop/pr/SeleniumTesting/twitter_experiments/Twitter_Finalized/api_action_lib.py\u001b[0m in \u001b[0;36mretweet_top_status\u001b[0;34m(api_dict, screen_name, n, wait_interval)\u001b[0m\n\u001b[1;32m    222\u001b[0m         \u001b[0mprint\u001b[0m\u001b[0;34m(\u001b[0m\u001b[0mcurrent_username\u001b[0m\u001b[0;34m)\u001b[0m\u001b[0;34m\u001b[0m\u001b[0m\n\u001b[1;32m    223\u001b[0m         \u001b[0;32mif\u001b[0m \u001b[0mscreen_name\u001b[0m \u001b[0;34m!=\u001b[0m \u001b[0;34m\"\"\u001b[0m\u001b[0;34m:\u001b[0m\u001b[0;34m\u001b[0m\u001b[0m\n\u001b[0;32m--> 224\u001b[0;31m             \u001b[0;32mfor\u001b[0m \u001b[0mtweet\u001b[0m \u001b[0;32min\u001b[0m \u001b[0mtweepy\u001b[0m\u001b[0;34m.\u001b[0m\u001b[0mCursor\u001b[0m\u001b[0;34m(\u001b[0m\u001b[0mapi_dict\u001b[0m\u001b[0;34m[\u001b[0m\u001b[0mcurrent_username\u001b[0m\u001b[0;34m]\u001b[0m\u001b[0;34m.\u001b[0m\u001b[0muser_timeline\u001b[0m\u001b[0;34m,\u001b[0m \u001b[0mscreen_name\u001b[0m\u001b[0;34m)\u001b[0m\u001b[0;34m.\u001b[0m\u001b[0mitems\u001b[0m\u001b[0;34m(\u001b[0m\u001b[0mn\u001b[0m\u001b[0;34m)\u001b[0m\u001b[0;34m:\u001b[0m\u001b[0;34m\u001b[0m\u001b[0m\n\u001b[0m\u001b[1;32m    225\u001b[0m                 \u001b[0;32mtry\u001b[0m\u001b[0;34m:\u001b[0m\u001b[0;34m\u001b[0m\u001b[0m\n\u001b[1;32m    226\u001b[0m                     \u001b[0mapi_dict\u001b[0m\u001b[0;34m[\u001b[0m\u001b[0mcurrent_username\u001b[0m\u001b[0;34m]\u001b[0m\u001b[0;34m.\u001b[0m\u001b[0mretweet\u001b[0m\u001b[0;34m(\u001b[0m\u001b[0mtweet\u001b[0m\u001b[0;34m.\u001b[0m\u001b[0mid\u001b[0m\u001b[0;34m)\u001b[0m\u001b[0;34m\u001b[0m\u001b[0m\n",
      "\u001b[0;32m/anaconda3/lib/python3.6/site-packages/tweepy/cursor.py\u001b[0m in \u001b[0;36m__next__\u001b[0;34m(self)\u001b[0m\n\u001b[1;32m     47\u001b[0m \u001b[0;34m\u001b[0m\u001b[0m\n\u001b[1;32m     48\u001b[0m     \u001b[0;32mdef\u001b[0m \u001b[0m__next__\u001b[0m\u001b[0;34m(\u001b[0m\u001b[0mself\u001b[0m\u001b[0;34m)\u001b[0m\u001b[0;34m:\u001b[0m\u001b[0;34m\u001b[0m\u001b[0m\n\u001b[0;32m---> 49\u001b[0;31m         \u001b[0;32mreturn\u001b[0m \u001b[0mself\u001b[0m\u001b[0;34m.\u001b[0m\u001b[0mnext\u001b[0m\u001b[0;34m(\u001b[0m\u001b[0;34m)\u001b[0m\u001b[0;34m\u001b[0m\u001b[0m\n\u001b[0m\u001b[1;32m     50\u001b[0m \u001b[0;34m\u001b[0m\u001b[0m\n\u001b[1;32m     51\u001b[0m     \u001b[0;32mdef\u001b[0m \u001b[0mnext\u001b[0m\u001b[0;34m(\u001b[0m\u001b[0mself\u001b[0m\u001b[0;34m)\u001b[0m\u001b[0;34m:\u001b[0m\u001b[0;34m\u001b[0m\u001b[0m\n",
      "\u001b[0;32m/anaconda3/lib/python3.6/site-packages/tweepy/cursor.py\u001b[0m in \u001b[0;36mnext\u001b[0;34m(self)\u001b[0m\n\u001b[1;32m    195\u001b[0m         \u001b[0;32mif\u001b[0m \u001b[0mself\u001b[0m\u001b[0;34m.\u001b[0m\u001b[0mcurrent_page\u001b[0m \u001b[0;32mis\u001b[0m \u001b[0;32mNone\u001b[0m \u001b[0;32mor\u001b[0m \u001b[0mself\u001b[0m\u001b[0;34m.\u001b[0m\u001b[0mpage_index\u001b[0m \u001b[0;34m==\u001b[0m \u001b[0mlen\u001b[0m\u001b[0;34m(\u001b[0m\u001b[0mself\u001b[0m\u001b[0;34m.\u001b[0m\u001b[0mcurrent_page\u001b[0m\u001b[0;34m)\u001b[0m \u001b[0;34m-\u001b[0m \u001b[0;36m1\u001b[0m\u001b[0;34m:\u001b[0m\u001b[0;34m\u001b[0m\u001b[0m\n\u001b[1;32m    196\u001b[0m             \u001b[0;31m# Reached end of current page, get the next page...\u001b[0m\u001b[0;34m\u001b[0m\u001b[0;34m\u001b[0m\u001b[0m\n\u001b[0;32m--> 197\u001b[0;31m             \u001b[0mself\u001b[0m\u001b[0;34m.\u001b[0m\u001b[0mcurrent_page\u001b[0m \u001b[0;34m=\u001b[0m \u001b[0mself\u001b[0m\u001b[0;34m.\u001b[0m\u001b[0mpage_iterator\u001b[0m\u001b[0;34m.\u001b[0m\u001b[0mnext\u001b[0m\u001b[0;34m(\u001b[0m\u001b[0;34m)\u001b[0m\u001b[0;34m\u001b[0m\u001b[0m\n\u001b[0m\u001b[1;32m    198\u001b[0m             \u001b[0mself\u001b[0m\u001b[0;34m.\u001b[0m\u001b[0mpage_index\u001b[0m \u001b[0;34m=\u001b[0m \u001b[0;34m-\u001b[0m\u001b[0;36m1\u001b[0m\u001b[0;34m\u001b[0m\u001b[0m\n\u001b[1;32m    199\u001b[0m         \u001b[0mself\u001b[0m\u001b[0;34m.\u001b[0m\u001b[0mpage_index\u001b[0m \u001b[0;34m+=\u001b[0m \u001b[0;36m1\u001b[0m\u001b[0;34m\u001b[0m\u001b[0m\n",
      "\u001b[0;32m/anaconda3/lib/python3.6/site-packages/tweepy/cursor.py\u001b[0m in \u001b[0;36mnext\u001b[0;34m(self)\u001b[0m\n\u001b[1;32m    106\u001b[0m \u001b[0;34m\u001b[0m\u001b[0m\n\u001b[1;32m    107\u001b[0m         \u001b[0;32mif\u001b[0m \u001b[0mself\u001b[0m\u001b[0;34m.\u001b[0m\u001b[0mindex\u001b[0m \u001b[0;34m>=\u001b[0m \u001b[0mlen\u001b[0m\u001b[0;34m(\u001b[0m\u001b[0mself\u001b[0m\u001b[0;34m.\u001b[0m\u001b[0mresults\u001b[0m\u001b[0;34m)\u001b[0m \u001b[0;34m-\u001b[0m \u001b[0;36m1\u001b[0m\u001b[0;34m:\u001b[0m\u001b[0;34m\u001b[0m\u001b[0m\n\u001b[0;32m--> 108\u001b[0;31m             \u001b[0mdata\u001b[0m \u001b[0;34m=\u001b[0m \u001b[0mself\u001b[0m\u001b[0;34m.\u001b[0m\u001b[0mmethod\u001b[0m\u001b[0;34m(\u001b[0m\u001b[0mmax_id\u001b[0m\u001b[0;34m=\u001b[0m\u001b[0mself\u001b[0m\u001b[0;34m.\u001b[0m\u001b[0mmax_id\u001b[0m\u001b[0;34m,\u001b[0m \u001b[0mparser\u001b[0m\u001b[0;34m=\u001b[0m\u001b[0mRawParser\u001b[0m\u001b[0;34m(\u001b[0m\u001b[0;34m)\u001b[0m\u001b[0;34m,\u001b[0m \u001b[0;34m*\u001b[0m\u001b[0mself\u001b[0m\u001b[0;34m.\u001b[0m\u001b[0margs\u001b[0m\u001b[0;34m,\u001b[0m \u001b[0;34m**\u001b[0m\u001b[0mself\u001b[0m\u001b[0;34m.\u001b[0m\u001b[0mkargs\u001b[0m\u001b[0;34m)\u001b[0m\u001b[0;34m\u001b[0m\u001b[0m\n\u001b[0m\u001b[1;32m    109\u001b[0m \u001b[0;34m\u001b[0m\u001b[0m\n\u001b[1;32m    110\u001b[0m             \u001b[0;32mif\u001b[0m \u001b[0mhasattr\u001b[0m\u001b[0;34m(\u001b[0m\u001b[0mself\u001b[0m\u001b[0;34m.\u001b[0m\u001b[0mmethod\u001b[0m\u001b[0;34m,\u001b[0m \u001b[0;34m'__self__'\u001b[0m\u001b[0;34m)\u001b[0m\u001b[0;34m:\u001b[0m\u001b[0;34m\u001b[0m\u001b[0m\n",
      "\u001b[0;32m/anaconda3/lib/python3.6/site-packages/tweepy/binder.py\u001b[0m in \u001b[0;36m_call\u001b[0;34m(*args, **kwargs)\u001b[0m\n\u001b[1;32m    248\u001b[0m             \u001b[0;32mreturn\u001b[0m \u001b[0mmethod\u001b[0m\u001b[0;34m\u001b[0m\u001b[0m\n\u001b[1;32m    249\u001b[0m         \u001b[0;32melse\u001b[0m\u001b[0;34m:\u001b[0m\u001b[0;34m\u001b[0m\u001b[0m\n\u001b[0;32m--> 250\u001b[0;31m             \u001b[0;32mreturn\u001b[0m \u001b[0mmethod\u001b[0m\u001b[0;34m.\u001b[0m\u001b[0mexecute\u001b[0m\u001b[0;34m(\u001b[0m\u001b[0;34m)\u001b[0m\u001b[0;34m\u001b[0m\u001b[0m\n\u001b[0m\u001b[1;32m    251\u001b[0m \u001b[0;34m\u001b[0m\u001b[0m\n\u001b[1;32m    252\u001b[0m     \u001b[0;31m# Set pagination mode\u001b[0m\u001b[0;34m\u001b[0m\u001b[0;34m\u001b[0m\u001b[0m\n",
      "\u001b[0;32m/anaconda3/lib/python3.6/site-packages/tweepy/binder.py\u001b[0m in \u001b[0;36mexecute\u001b[0;34m(self)\u001b[0m\n\u001b[1;32m    232\u001b[0m                     \u001b[0;32mraise\u001b[0m \u001b[0mRateLimitError\u001b[0m\u001b[0;34m(\u001b[0m\u001b[0merror_msg\u001b[0m\u001b[0;34m,\u001b[0m \u001b[0mresp\u001b[0m\u001b[0;34m)\u001b[0m\u001b[0;34m\u001b[0m\u001b[0m\n\u001b[1;32m    233\u001b[0m                 \u001b[0;32melse\u001b[0m\u001b[0;34m:\u001b[0m\u001b[0;34m\u001b[0m\u001b[0m\n\u001b[0;32m--> 234\u001b[0;31m                     \u001b[0;32mraise\u001b[0m \u001b[0mTweepError\u001b[0m\u001b[0;34m(\u001b[0m\u001b[0merror_msg\u001b[0m\u001b[0;34m,\u001b[0m \u001b[0mresp\u001b[0m\u001b[0;34m,\u001b[0m \u001b[0mapi_code\u001b[0m\u001b[0;34m=\u001b[0m\u001b[0mapi_error_code\u001b[0m\u001b[0;34m)\u001b[0m\u001b[0;34m\u001b[0m\u001b[0m\n\u001b[0m\u001b[1;32m    235\u001b[0m \u001b[0;34m\u001b[0m\u001b[0m\n\u001b[1;32m    236\u001b[0m             \u001b[0;31m# Parse the response payload\u001b[0m\u001b[0;34m\u001b[0m\u001b[0;34m\u001b[0m\u001b[0m\n",
      "\u001b[0;31mTweepError\u001b[0m: Twitter error response: status code = 403"
     ]
    }
   ],
   "source": [
    "retweet_top_status(api_dict, 'TheDaiIyPuppy', 2, 2)"
   ]
  },
  {
   "cell_type": "code",
   "execution_count": 7,
   "metadata": {},
   "outputs": [
    {
     "ename": "TweepError",
     "evalue": "[{'code': 326, 'message': 'To protect our users from spam and other malicious activity, this account is temporarily locked. Please log in to https://twitter.com to unlock your account.'}]",
     "output_type": "error",
     "traceback": [
      "\u001b[0;31m---------------------------------------------------------------------------\u001b[0m",
      "\u001b[0;31mTweepError\u001b[0m                                Traceback (most recent call last)",
      "\u001b[0;32m<ipython-input-7-85e726546f4d>\u001b[0m in \u001b[0;36m<module>\u001b[0;34m()\u001b[0m\n\u001b[0;32m----> 1\u001b[0;31m \u001b[0mapi_dict\u001b[0m\u001b[0;34m[\u001b[0m\u001b[0;34m'bansalimishrarr@gmail.com'\u001b[0m\u001b[0;34m]\u001b[0m\u001b[0;34m.\u001b[0m\u001b[0mrate_limit_status\u001b[0m\u001b[0;34m(\u001b[0m\u001b[0;34m)\u001b[0m\u001b[0;34m\u001b[0m\u001b[0m\n\u001b[0m",
      "\u001b[0;32m/anaconda3/lib/python3.6/site-packages/tweepy/binder.py\u001b[0m in \u001b[0;36m_call\u001b[0;34m(*args, **kwargs)\u001b[0m\n\u001b[1;32m    248\u001b[0m             \u001b[0;32mreturn\u001b[0m \u001b[0mmethod\u001b[0m\u001b[0;34m\u001b[0m\u001b[0m\n\u001b[1;32m    249\u001b[0m         \u001b[0;32melse\u001b[0m\u001b[0;34m:\u001b[0m\u001b[0;34m\u001b[0m\u001b[0m\n\u001b[0;32m--> 250\u001b[0;31m             \u001b[0;32mreturn\u001b[0m \u001b[0mmethod\u001b[0m\u001b[0;34m.\u001b[0m\u001b[0mexecute\u001b[0m\u001b[0;34m(\u001b[0m\u001b[0;34m)\u001b[0m\u001b[0;34m\u001b[0m\u001b[0m\n\u001b[0m\u001b[1;32m    251\u001b[0m \u001b[0;34m\u001b[0m\u001b[0m\n\u001b[1;32m    252\u001b[0m     \u001b[0;31m# Set pagination mode\u001b[0m\u001b[0;34m\u001b[0m\u001b[0;34m\u001b[0m\u001b[0m\n",
      "\u001b[0;32m/anaconda3/lib/python3.6/site-packages/tweepy/binder.py\u001b[0m in \u001b[0;36mexecute\u001b[0;34m(self)\u001b[0m\n\u001b[1;32m    232\u001b[0m                     \u001b[0;32mraise\u001b[0m \u001b[0mRateLimitError\u001b[0m\u001b[0;34m(\u001b[0m\u001b[0merror_msg\u001b[0m\u001b[0;34m,\u001b[0m \u001b[0mresp\u001b[0m\u001b[0;34m)\u001b[0m\u001b[0;34m\u001b[0m\u001b[0m\n\u001b[1;32m    233\u001b[0m                 \u001b[0;32melse\u001b[0m\u001b[0;34m:\u001b[0m\u001b[0;34m\u001b[0m\u001b[0m\n\u001b[0;32m--> 234\u001b[0;31m                     \u001b[0;32mraise\u001b[0m \u001b[0mTweepError\u001b[0m\u001b[0;34m(\u001b[0m\u001b[0merror_msg\u001b[0m\u001b[0;34m,\u001b[0m \u001b[0mresp\u001b[0m\u001b[0;34m,\u001b[0m \u001b[0mapi_code\u001b[0m\u001b[0;34m=\u001b[0m\u001b[0mapi_error_code\u001b[0m\u001b[0;34m)\u001b[0m\u001b[0;34m\u001b[0m\u001b[0m\n\u001b[0m\u001b[1;32m    235\u001b[0m \u001b[0;34m\u001b[0m\u001b[0m\n\u001b[1;32m    236\u001b[0m             \u001b[0;31m# Parse the response payload\u001b[0m\u001b[0;34m\u001b[0m\u001b[0;34m\u001b[0m\u001b[0m\n",
      "\u001b[0;31mTweepError\u001b[0m: [{'code': 326, 'message': 'To protect our users from spam and other malicious activity, this account is temporarily locked. Please log in to https://twitter.com to unlock your account.'}]"
     ]
    }
   ],
   "source": [
    "api_dict['bansalimishrarr@gmail.com'].rate_limit_status()"
   ]
  },
  {
   "cell_type": "code",
   "execution_count": null,
   "metadata": {},
   "outputs": [],
   "source": []
  }
 ],
 "metadata": {
  "kernelspec": {
   "display_name": "Python 3",
   "language": "python",
   "name": "python3"
  },
  "language_info": {
   "codemirror_mode": {
    "name": "ipython",
    "version": 3
   },
   "file_extension": ".py",
   "mimetype": "text/x-python",
   "name": "python",
   "nbconvert_exporter": "python",
   "pygments_lexer": "ipython3",
   "version": "3.6.5"
  }
 },
 "nbformat": 4,
 "nbformat_minor": 2
}
